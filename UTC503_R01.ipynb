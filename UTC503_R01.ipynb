{
  "nbformat": 4,
  "nbformat_minor": 0,
  "metadata": {
    "colab": {
      "name": "UTC503_R01.ipynb",
      "provenance": [],
      "include_colab_link": true
    },
    "kernelspec": {
      "name": "python3",
      "display_name": "Python 3"
    },
    "language_info": {
      "name": "python"
    }
  },
  "cells": [
    {
      "cell_type": "markdown",
      "metadata": {
        "id": "view-in-github",
        "colab_type": "text"
      },
      "source": [
        "<a href=\"https://colab.research.google.com/github/WadihChekriMorkos/web3-2021-Wadih-CHEKRI-MORKOS/blob/main/UTC503_R01.ipynb\" target=\"_parent\"><img src=\"https://colab.research.google.com/assets/colab-badge.svg\" alt=\"Open In Colab\"/></a>"
      ]
    },
    {
      "cell_type": "markdown",
      "source": [
        "# Réliser les excercices suivants\n",
        "1. Ecrire deux fonctions en python calculant la factorielle une en itératif et l'autre en récursif.\n",
        "n! = 1*2*3*4*....*n = (n-1)!n\n",
        "2. Calculer les solutions d’une équation de second degré\n",
        "3. Trouver le plus petit diviseur d’un nombre positif n\n",
        "4. Calculer p(x)=a0+a1*x+..+ai*xi+...+an*xn\n",
        "on donne le tuple (a0,a1,...,ai,...,an) et la vaelur x\n",
        "\n"
      ],
      "metadata": {
        "id": "54Qe07859OZR"
      }
    },
    {
      "cell_type": "markdown",
      "source": [
        ""
      ],
      "metadata": {
        "id": "lc2mQNep93X2"
      }
    },
    {
      "cell_type": "markdown",
      "source": [
        "# Q1"
      ],
      "metadata": {
        "id": "9f3v3uxb9mZx"
      }
    },
    {
      "cell_type": "code",
      "source": [
        ""
      ],
      "metadata": {
        "id": "3RmTqS_J9yq5"
      },
      "execution_count": null,
      "outputs": []
    },
    {
      "cell_type": "markdown",
      "source": [
        "# Q2"
      ],
      "metadata": {
        "id": "sZHWIxOZ9mkX"
      }
    },
    {
      "cell_type": "code",
      "source": [
        ""
      ],
      "metadata": {
        "id": "iQFjm-WW9zJP"
      },
      "execution_count": null,
      "outputs": []
    },
    {
      "cell_type": "markdown",
      "source": [
        "# Q3"
      ],
      "metadata": {
        "id": "26gDh2U-9mtH"
      }
    },
    {
      "cell_type": "code",
      "source": [
        ""
      ],
      "metadata": {
        "id": "zYNF_LeL9z4I"
      },
      "execution_count": null,
      "outputs": []
    },
    {
      "cell_type": "markdown",
      "source": [
        "# Q4"
      ],
      "metadata": {
        "id": "VKzgHMXu9m26"
      }
    },
    {
      "cell_type": "code",
      "execution_count": null,
      "metadata": {
        "id": "D0RRaZ0l85-u"
      },
      "outputs": [],
      "source": [
        ""
      ]
    }
  ]
}